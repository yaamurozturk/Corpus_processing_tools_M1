{
  "nbformat": 4,
  "nbformat_minor": 0,
  "metadata": {
    "colab": {
      "name": "outils_de_corpus3.ipynb",
      "provenance": []
    },
    "kernelspec": {
      "name": "python3",
      "display_name": "Python 3"
    },
    "language_info": {
      "name": "python"
    }
  },
  "cells": [
    {
      "cell_type": "code",
      "metadata": {
        "id": "ZLPT1z7uc0Fa"
      },
      "source": [
        "!python -m spacy download fr_core_news_md"
      ],
      "execution_count": null,
      "outputs": []
    },
    {
      "cell_type": "code",
      "metadata": {
        "id": "lSW1f8cfc4tr"
      },
      "source": [
        "import spacy\n",
        "import fr_core_news_md\n",
        "nlp = fr_core_news_md.load()"
      ],
      "execution_count": 122,
      "outputs": []
    },
    {
      "cell_type": "code",
      "metadata": {
        "id": "0tnxSZlreBMc"
      },
      "source": [
        "text = nlp(\"Les enfants n’aiment pas trop les asperges. Les Français réclament moins d’impôts. Les acacias donnent un miel ambré, limpide et fluide.  L’équipe fait porter le chapeau à l’arbitrage. Des nuées de milliards d’insectes, venus de la péninsule Arabique, s’abattent sur la Corne de l’Afrique et dévorent les cultures, mettant en péril la sécurité alimentaire de la région.\")\n",
        "for tok in text:\n",
        "     print(tok.text, tok.pos_,tok.dep_ )\n",
        "    "
      ],
      "execution_count": null,
      "outputs": []
    },
    {
      "cell_type": "code",
      "metadata": {
        "id": "3_LB9jXjsLPQ"
      },
      "source": [
        "from spacy import displacy\n",
        "displacy.render(text, style=\"dep\", jupyter=True, options={'distance':120})"
      ],
      "execution_count": null,
      "outputs": []
    },
    {
      "cell_type": "code",
      "metadata": {
        "colab": {
          "base_uri": "https://localhost:8080/"
        },
        "id": "YUiw1zyB7LJY",
        "outputId": "2734bbbd-5ee5-443d-8149-679551cd20a4"
      },
      "source": [
        "for token in text:\n",
        "  print(f'{token.text:{10}} {token.head.pos_:{7}} {token.pos_:{7}} {token.dep_:{7}}')"
      ],
      "execution_count": 135,
      "outputs": [
        {
          "output_type": "stream",
          "text": [
            "Les        NOUN    DET     det    \n",
            "enfants    VERB    NOUN    nsubj  \n",
            "n’         VERB    ADV     advmod \n",
            "aiment     VERB    VERB    ROOT   \n",
            "pas        VERB    ADV     advmod \n",
            "trop       NOUN    ADV     advmod \n",
            "les        NOUN    DET     det    \n",
            "asperges   VERB    NOUN    obj    \n",
            ".          VERB    PUNCT   punct  \n",
            "Les        NOUN    DET     det    \n",
            "Français   VERB    NOUN    nsubj  \n",
            "réclament  VERB    VERB    ROOT   \n",
            "moins      VERB    ADV     advmod \n",
            "d’         NOUN    DET     case   \n",
            "impôts     VERB    NOUN    obj    \n",
            ".          VERB    PUNCT   punct  \n",
            "Les        NOUN    DET     det    \n",
            "acacias    VERB    NOUN    nsubj  \n",
            "donnent    VERB    VERB    ROOT   \n",
            "un         NOUN    DET     det    \n",
            "miel       VERB    NOUN    obj    \n",
            "ambré      NOUN    ADJ     amod   \n",
            ",          ADJ     PUNCT   punct  \n",
            "limpide    ADJ     ADJ     conj   \n",
            "et         ADJ     CCONJ   cc     \n",
            "fluide     ADJ     ADJ     conj   \n",
            ".          VERB    PUNCT   punct  \n",
            "           PUNCT   SPACE          \n",
            "L’         NOUN    DET     amod   \n",
            "équipe     VERB    NOUN    nsubj  \n",
            "fait       VERB    VERB    ROOT   \n",
            "porter     VERB    VERB    xcomp  \n",
            "le         NOUN    DET     det    \n",
            "chapeau    VERB    NOUN    obj    \n",
            "à          NOUN    ADP     case   \n",
            "l’         NOUN    DET     det    \n",
            "arbitrage  VERB    NOUN    obl    \n",
            ".          VERB    PUNCT   punct  \n",
            "Des        NOUN    DET     det    \n",
            "nuées      VERB    NOUN    nsubj  \n",
            "de         NOUN    ADP     case   \n",
            "milliards  NOUN    NOUN    nmod   \n",
            "d’         NOUN    ADP     case   \n",
            "insectes   NOUN    NOUN    nmod   \n",
            ",          VERB    PUNCT   punct  \n",
            "venus      NOUN    VERB    acl    \n",
            "de         NOUN    ADP     case   \n",
            "la         NOUN    DET     det    \n",
            "péninsule  VERB    NOUN    obl    \n",
            "Arabique   NOUN    ADJ     amod   \n",
            ",          VERB    PUNCT   punct  \n",
            "s’         VERB    AUX     aux:pass\n",
            "abattent   VERB    VERB    ROOT   \n",
            "sur        NOUN    ADP     case   \n",
            "la         NOUN    DET     det    \n",
            "Corne      VERB    NOUN    obl    \n",
            "de         PROPN   ADP     case   \n",
            "l’         PROPN   DET     det    \n",
            "Afrique    NOUN    PROPN   nmod   \n",
            "et         VERB    CCONJ   cc     \n",
            "dévorent   VERB    VERB    conj   \n",
            "les        NOUN    DET     det    \n",
            "cultures   VERB    NOUN    obj    \n",
            ",          VERB    PUNCT   punct  \n",
            "mettant    VERB    VERB    conj   \n",
            "en         NOUN    ADP     case   \n",
            "péril      VERB    NOUN    obl    \n",
            "la         NOUN    DET     det    \n",
            "sécurité   VERB    NOUN    obj    \n",
            "alimentaire NOUN    ADJ     amod   \n",
            "de         NOUN    ADP     case   \n",
            "la         NOUN    DET     det    \n",
            "région     NOUN    NOUN    nmod   \n",
            ".          VERB    PUNCT   punct  \n"
          ],
          "name": "stdout"
        }
      ]
    },
    {
      "cell_type": "code",
      "metadata": {
        "colab": {
          "base_uri": "https://localhost:8080/"
        },
        "id": "m8KXWaaHBaZF",
        "outputId": "43717b2a-8d57-4d2d-e8a9-c65cfa085e5d"
      },
      "source": [
        "for token in text:\n",
        "    if token.head.pos_ in ['VERB']:\n",
        "         if token.dep_ in ['nsubj', 'obj', 'obl' ]:\n",
        "            print([t.text for t in token.subtree])"
      ],
      "execution_count": 137,
      "outputs": [
        {
          "output_type": "stream",
          "text": [
            "['Les', 'enfants']\n",
            "['trop', 'les', 'asperges']\n",
            "['Les', 'Français']\n",
            "['d’', 'impôts']\n",
            "['Les', 'acacias']\n",
            "['un', 'miel', 'ambré', ',', 'limpide', 'et', 'fluide']\n",
            "['L’', 'équipe']\n",
            "['le', 'chapeau']\n",
            "['à', 'l’', 'arbitrage']\n",
            "['Des', 'nuées', 'de', 'milliards', 'd’', 'insectes', ',', 'venus', 'de', 'la', 'péninsule', 'Arabique']\n",
            "['de', 'la', 'péninsule', 'Arabique']\n",
            "['sur', 'la', 'Corne', 'de', 'l’', 'Afrique']\n",
            "['les', 'cultures']\n",
            "['en', 'péril']\n",
            "['la', 'sécurité', 'alimentaire', 'de', 'la', 'région']\n"
          ],
          "name": "stdout"
        }
      ]
    }
  ]
}