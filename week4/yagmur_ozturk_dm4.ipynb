{
  "nbformat": 4,
  "nbformat_minor": 0,
  "metadata": {
    "colab": {
      "name": "yagmur_ozturk_dm4.ipynb",
      "provenance": []
    },
    "kernelspec": {
      "name": "python3",
      "display_name": "Python 3"
    },
    "language_info": {
      "name": "python"
    }
  },
  "cells": [
    {
      "cell_type": "code",
      "metadata": {
        "id": "90UTLKZLV8C7"
      },
      "source": [
        "!pip install --upgrade spacy"
      ],
      "execution_count": null,
      "outputs": []
    },
    {
      "cell_type": "code",
      "metadata": {
        "id": "xwq62dO4mA6j"
      },
      "source": [
        "!python -m spacy download fr_core_news_md"
      ],
      "execution_count": null,
      "outputs": []
    },
    {
      "cell_type": "code",
      "metadata": {
        "id": "qSWnR6E3mTzA"
      },
      "source": [
        "import spacy\n",
        "import fr_core_news_md\n",
        "nlp = fr_core_news_md.load()"
      ],
      "execution_count": 2,
      "outputs": []
    },
    {
      "cell_type": "code",
      "metadata": {
        "colab": {
          "resources": {
            "http://localhost:8080/nbextensions/google.colab/files.js": {
              "data": "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",
              "ok": true,
              "headers": [
                [
                  "content-type",
                  "application/javascript; charset=utf-8"
                ]
              ],
              "status": 200,
              "status_text": ""
            }
          },
          "base_uri": "https://localhost:8080/",
          "height": 73
        },
        "id": "NMM_sx-ZmWJN",
        "outputId": "311f868f-d01c-4822-d019-c2adde57ff3e"
      },
      "source": [
        "from google.colab import files \n",
        "doc = files.upload()"
      ],
      "execution_count": 3,
      "outputs": [
        {
          "output_type": "display_data",
          "data": {
            "text/html": [
              "\n",
              "     <input type=\"file\" id=\"files-87c65fd3-7737-4edf-b422-e0129a4806d6\" name=\"files[]\" multiple disabled\n",
              "        style=\"border:none\" />\n",
              "     <output id=\"result-87c65fd3-7737-4edf-b422-e0129a4806d6\">\n",
              "      Upload widget is only available when the cell has been executed in the\n",
              "      current browser session. Please rerun this cell to enable.\n",
              "      </output>\n",
              "      <script src=\"/nbextensions/google.colab/files.js\"></script> "
            ],
            "text/plain": [
              "<IPython.core.display.HTML object>"
            ]
          },
          "metadata": {
            "tags": []
          }
        },
        {
          "output_type": "stream",
          "text": [
            "Saving Le_Ventre_de_Paris.txt to Le_Ventre_de_Paris.txt\n"
          ],
          "name": "stdout"
        }
      ]
    },
    {
      "cell_type": "code",
      "metadata": {
        "id": "jX1M7-z4SJ73"
      },
      "source": [
        "from collections import Counter\n",
        "from spacy.matcher import DependencyMatcher"
      ],
      "execution_count": 16,
      "outputs": []
    },
    {
      "cell_type": "code",
      "metadata": {
        "id": "9sDnR9YcUgLr"
      },
      "source": [
        "#Lecture du fichier ligne par ligne est faire une liste avec ses lignes\n",
        "with open('Le_Ventre_de_Paris.txt', encoding=\"utf-8\") as file:\n",
        "    leventre = file.readlines()"
      ],
      "execution_count": 19,
      "outputs": []
    },
    {
      "cell_type": "code",
      "metadata": {
        "colab": {
          "base_uri": "https://localhost:8080/"
        },
        "id": "z3V1UgLkUnob",
        "outputId": "29dbc75a-512a-455b-88a8-c2ee90f55095"
      },
      "source": [
        "# parcourir la liste des NE trouvées et compter les occurrences des entités \"PER\" avec COUNTER \n",
        "personnes = Counter()\n",
        "docs = nlp.pipe(leventre)   ## nlp.pipe pour traiter le texte ligne par ligne\n",
        "for doc in docs:\n",
        "    for ent in doc.ents:\n",
        "        if ent.label_ == \"PER\":\n",
        "            personnes[ent.text] += 1\n",
        "personnes"
      ],
      "execution_count": 108,
      "outputs": [
        {
          "output_type": "execute_result",
          "data": {
            "text/plain": [
              "Counter({'Adieu': 1,\n",
              "         'Alexandre': 6,\n",
              "         'Allez': 1,\n",
              "         'Auguste': 18,\n",
              "         'Auguste Landois': 1,\n",
              "         'Augustine': 16,\n",
              "         'Augustine Landois': 2,\n",
              "         'Aveuglé': 1,\n",
              "         'Balthazar': 6,\n",
              "         'Cadine': 3,\n",
              "         'Cendrillon': 1,\n",
              "         'Chantemesse': 5,\n",
              "         'Charles X': 2,\n",
              "         'Charvet': 15,\n",
              "         'Claire': 5,\n",
              "         'Claude': 33,\n",
              "         'Claude Lantier': 5,\n",
              "         'Clémence': 8,\n",
              "         'Collard': 5,\n",
              "         'Cuvier': 1,\n",
              "         'Dis Marcel': 1,\n",
              "         'Doucement': 2,\n",
              "         'Florent': 218,\n",
              "         'Florent Laquerrière': 1,\n",
              "         'François': 15,\n",
              "         'Gavard': 3,\n",
              "         'Gavard présenta Florent': 1,\n",
              "         'Gavard voulut': 1,\n",
              "         'Gradelle': 8,\n",
              "         'Guillout': 1,\n",
              "         'Gutenberg': 1,\n",
              "         'Hein': 3,\n",
              "         'Jean-Jacques Rousseau': 1,\n",
              "         'Jules': 5,\n",
              "         'Lacaille': 1,\n",
              "         'Lebigre': 13,\n",
              "         'Lecœur': 18,\n",
              "         'Lisa': 76,\n",
              "         'Logre': 1,\n",
              "         'Louis-Philippe': 2,\n",
              "         'Louise': 5,\n",
              "         'Louise Méhudin': 1,\n",
              "         'Lundi': 1,\n",
              "         'Léon': 13,\n",
              "         'Macquart': 4,\n",
              "         'Madame François': 5,\n",
              "         'Madame Lecœur': 3,\n",
              "         'Madame Robine': 1,\n",
              "         'Madame Taboureau': 2,\n",
              "         'Mademoiselle Saget': 4,\n",
              "         'Manoury': 1,\n",
              "         'Marcel': 1,\n",
              "         'Marjolin': 5,\n",
              "         'Monsieur': 1,\n",
              "         'Monsieur Manoury': 1,\n",
              "         'Morny': 1,\n",
              "         'Mouton': 2,\n",
              "         'Murillo': 4,\n",
              "         'Méhudin': 10,\n",
              "         'Ménilmontant': 1,\n",
              "         'Napoléon III': 1,\n",
              "         'Pardieu': 1,\n",
              "         'Pauline': 22,\n",
              "         'Quarante': 1,\n",
              "         'Quenu': 5,\n",
              "         'Robine': 11,\n",
              "         'Rose': 3,\n",
              "         'Rubens': 1,\n",
              "         'Saget': 18,\n",
              "         'Saint-Ouen': 1,\n",
              "         'Verlaque': 4,\n",
              "         'Voyons': 3,\n",
              "         'de Florent': 1,\n",
              "         'la Vierge': 1,\n",
              "         'madame Quenu': 9,\n",
              "         'madame Taboureau': 1,\n",
              "         'Échappé de Cayenne': 1,\n",
              "         'Écoute': 1})"
            ]
          },
          "metadata": {
            "tags": []
          },
          "execution_count": 108
        }
      ]
    },
    {
      "cell_type": "code",
      "metadata": {
        "colab": {
          "base_uri": "https://localhost:8080/"
        },
        "id": "W8ZuIJLLVEdS",
        "outputId": "021152fe-2328-4ef1-9655-bd56cc7d82c4"
      },
      "source": [
        "personnes_fin = []     #faire une autre liste pour diviser les personnes qui peut être trouvé plus de/ou 3 fois\n",
        "for key, value in personnes.items():    #key est les noms et value le nombre d'occurence\n",
        "    if value >= 3:\n",
        "        personnes_fin.append(key)\n",
        "personnes_fin"
      ],
      "execution_count": 22,
      "outputs": [
        {
          "output_type": "execute_result",
          "data": {
            "text/plain": [
              "['Balthazar',\n",
              " 'Madame François',\n",
              " 'François',\n",
              " 'Florent',\n",
              " 'Chantemesse',\n",
              " 'Jules',\n",
              " 'Claude',\n",
              " 'Hein',\n",
              " 'Saget',\n",
              " 'Méhudin',\n",
              " 'Murillo',\n",
              " 'Voyons',\n",
              " 'Lebigre',\n",
              " 'Alexandre',\n",
              " 'Marjolin',\n",
              " 'Cadine',\n",
              " 'Claude Lantier',\n",
              " 'Lecœur',\n",
              " 'Madame Lecœur',\n",
              " 'Quenu',\n",
              " 'madame Quenu',\n",
              " 'Lisa',\n",
              " 'Gavard',\n",
              " 'Pauline',\n",
              " 'Collard',\n",
              " 'Gradelle',\n",
              " 'Macquart',\n",
              " 'Léon',\n",
              " 'Auguste',\n",
              " 'Augustine',\n",
              " 'Mademoiselle Saget',\n",
              " 'Verlaque',\n",
              " 'Rose',\n",
              " 'Robine',\n",
              " 'Charvet',\n",
              " 'Clémence',\n",
              " 'Louise',\n",
              " 'Claire']"
            ]
          },
          "metadata": {
            "tags": []
          },
          "execution_count": 22
        }
      ]
    },
    {
      "cell_type": "code",
      "metadata": {
        "id": "CyTsSIfCVSEJ"
      },
      "source": [
        "#Utilisation de \"dependency matcher\", qui permet d'obtenir des patterns syntaxiques\n",
        "#Ici, on doit trouver subj-verb, ça peut etre AUX ou VERB\n",
        "match = [\n",
        "    {\n",
        "        \"RIGHT_ID\": \"verbe\",\n",
        "        \"RIGHT_ATTRS\": {\"POS\": {\"IN\" : [\"VERB\", \"AUX\"]}}\n",
        "    },\n",
        "    {\n",
        "        \"LEFT_ID\": \"verbe\",\n",
        "        \"REL_OP\": \">\",\n",
        "        \"RIGHT_ID\": \"personne\",\n",
        "        \"RIGHT_ATTRS\": {\"ORTH\": {\"IN\" : personnes_fin}, \"DEP\" : {\"IN\" : [\"nsubj\"]}}\n",
        "    }\n",
        "]"
      ],
      "execution_count": 144,
      "outputs": []
    },
    {
      "cell_type": "code",
      "metadata": {
        "id": "s1cltw7WVWpg"
      },
      "source": [
        "matcher = DependencyMatcher(nlp.vocab)  # ajoute le nouveau pattern pour matching \n",
        "matcher.add(\"VERBE_PERSONNE\",[match])\n",
        "docs = nlp.pipe(leventre)"
      ],
      "execution_count": 145,
      "outputs": []
    },
    {
      "cell_type": "code",
      "metadata": {
        "id": "h5CSIOCjVlFF"
      },
      "source": [
        "for doc in docs:\n",
        "    matches = matcher(doc)\n",
        "    for a, b in matches:  #pour mieux presentation, j'ai utilisé lemmes pour les verbes\n",
        "        relations[ \" ==  \".join([doc[c].lemma_ for c in b])] "
      ],
      "execution_count": 146,
      "outputs": []
    },
    {
      "cell_type": "code",
      "metadata": {
        "colab": {
          "base_uri": "https://localhost:8080/"
        },
        "id": "gqM5K-PnVsF9",
        "outputId": "ee6fb772-6e20-4ffd-bb8e-a4d99b3b6602"
      },
      "source": [
        "print(\"VERBES -- SUJETS :\")\n",
        "for key in relations:\n",
        "    print (f\"{key}\")"
      ],
      "execution_count": 147,
      "outputs": [
        {
          "output_type": "stream",
          "text": [
            "VERBES -- SUJETS :\n",
            "songer ==  Florent\n",
            "avancer ==  Florent\n",
            "entrer ==  Florent\n",
            "mettre ==  Florent\n",
            "donner ==  Florent\n",
            "apercevoir ==  Florent\n",
            "regarder ==  Florent\n",
            "lever ==  Florent\n",
            "rappeler ==  Florent\n",
            "causer ==  Florent\n",
            "intéresser ==  Florent\n",
            "étonner ==  Florent\n",
            "dormir ==  Jules\n",
            "baisser ==  Florent\n",
            "regarder ==  Claude\n",
            "rester ==  Florent\n",
            "assurer ==  Florent\n",
            "arrêter ==  Claude\n",
            "rire ==  Claude\n",
            "dire ==  Claude\n",
            "aller ==  Florent\n",
            "peindre ==  Murillo\n",
            "dire ==  Florent\n",
            "appeler ==  Claude\n",
            "entrer ==  claude\n",
            "reconnaître ==  Florent\n",
            "répéter ==  Claude\n",
            "dire ==  Alexandre\n",
            "suivre ==  Florent\n",
            "appuyer ==  Florent\n",
            "ravir ==  Claude\n",
            "revenir ==  Claude\n",
            "raconter ==  Claude\n",
            "écouter ==  Florent\n",
            "savoir ==  Florent\n",
            "tourner ==  Florent\n",
            "arriver ==  Claude\n",
            "demander ==  Florent\n",
            "hâter ==  Claude\n",
            "croire ==  Florent\n",
            "montrer ==  Claude\n",
            "battre ==  Claude\n",
            "murmurer ==  Claude\n",
            "souffrir ==  Florent\n",
            "imaginer ==  Florent\n",
            "heurter ==  Florent\n",
            "retourner ==  Florent\n",
            "dire ==  Gavard\n",
            "raconter ==  Florent\n",
            "trouver ==  Gavard\n",
            "promener ==  Florent\n",
            "avoir ==  Florent\n",
            "sentir ==  Florent\n",
            "entendre ==  Florent\n",
            "aller ==  Pauline\n",
            "arriver ==  Lisa\n",
            "revoir ==  Florent\n",
            "venir ==  Florent\n",
            "arriver ==  Florent\n",
            "aller ==  quenu\n",
            "remettre ==  Florent\n",
            "cesser ==  Florent\n",
            "devenir ==  quenu\n",
            "garder ==  Florent\n",
            "rire ==  quenu\n",
            "redevenir ==  Florent\n",
            "penser ==  Florent\n",
            "rentraire ==  Florent\n",
            "finir ==  Gavard\n",
            "quitter ==  Quenu\n",
            "donner ==  Gavard\n",
            "prendre ==  quenu\n",
            "examiner ==  Gradelle\n",
            "devoir ==  Florent\n",
            "pleurer ==  quenu\n",
            "redouter ==  quenu\n",
            "envoyer ==  gradelle\n",
            "soigner ==  Lisa\n",
            "rester ==  Lisa\n",
            "venir ==  Gradelle\n",
            "parler ==  Macquart\n",
            "continuer ==  Lisa\n",
            "occuper ==  Lisa\n",
            "mettre ==  quenu\n",
            "faire ==  Lisa\n",
            "perdre ==  lisa\n",
            "aider ==  quenu\n",
            "pleurer ==  Lisa\n",
            "hacher ==  quenu\n",
            "aller ==  Lisa\n",
            "vouloir ==  quenu\n",
            "avoir ==  Quenu\n",
            "sourire ==  Lisa\n",
            "laisser ==  quenu\n",
            "passer ==  Lisa\n",
            "expliquer ==  Lisa\n",
            "ajouter ==  Lisa\n",
            "vouloir ==  Lisa\n",
            "connaître ==  lisa\n",
            "habiller ==  Florent\n",
            "tomber ==  Florent\n",
            "prendre ==  Lisa\n",
            "vouloir ==  Gavard\n",
            "pouvoir ==  Florent\n",
            "monter ==  Quenu\n",
            "attendre ==  Lisa\n",
            "avoir ==  Lisa\n",
            "surprendre ==  Florent\n",
            "écrier ==  Florent\n",
            "devoir ==  quenu\n",
            "parler ==  Florent\n",
            "finir ==  Florent\n",
            "dire ==  Lisa\n",
            "mordre ==  quenu\n",
            "discuter ==  Lisa\n",
            "offrir ==  Florent\n",
            "plier ==  Lisa\n",
            "laisser ==  Florent\n",
            "offrir ==  Lisa\n",
            "pousser ==  Lisa\n",
            "conter ==  Lisa\n",
            "reprendre ==  Lisa\n",
            "donner ==  Léon\n",
            "retenir ==  Auguste\n",
            "coucher ==  Augustine\n",
            "quenu ==  Auguste\n",
            "revenir ==  Florent\n",
            "devenir ==  Florent\n",
            "perdre ==  Gavard\n",
            "régner ==  Gavard\n",
            "détester ==  Gavard\n",
            "entrer ==  Marjolin\n",
            "aller ==  Marjolin\n",
            "apercevoir ==  Marjolin\n",
            "venir ==  Gavard\n",
            "entrer ==  Gavard\n",
            "pencher ==  Lisa\n",
            "avoir ==  Verlaque\n",
            "entendre ==  Gavard\n",
            "baisser ==  quenu\n",
            "tourner ==  Lisa\n",
            "prendre ==  Gavard\n",
            "appeler ==  Lisa\n",
            "faire ==  Florent\n",
            "irriter ==  Lisa\n",
            "éclater ==  Lisa\n",
            "renvoyer ==  Saget\n",
            "expliquer ==  Gavard\n",
            "tenter ==  quenu\n",
            "serrer ==  Lisa\n",
            "remettre ==  Lisa\n",
            "rentrer ==  Augustine\n",
            "retourner ==  quenu\n",
            "emmener ==  Gavard\n",
            "attirer ==  quenu\n",
            "sortir ==  Florent\n",
            "serrer ==  Claude\n",
            "remonter ==  Florent\n",
            "fâcher ==  lisa\n",
            "fabriquer ==  Gradelle\n",
            "emballer ==  quenu\n",
            "aider ==  Auguste\n",
            "hacher ==  Léon\n",
            "aller ==  Auguste\n",
            "prétendre ==  quenu\n",
            "saigner ==  Auguste\n",
            "connaître ==  Auguste\n",
            "demander ==  Lisa\n",
            "laisser ==  Augustine\n",
            "écouter ==  Lisa\n",
            "approuver ==  quenu\n",
            "comprendre ==  Florent\n",
            "mettre ==  Lisa\n",
            "fâcher ==  pauline\n",
            "écouter ==  pauline\n",
            "frapper ==  Lisa\n",
            "préparer ==  Auguste\n",
            "donner ==  Auguste\n",
            "finir ==  Léon\n",
            "paraître ==  lisa\n",
            "entendre ==  Lisa\n",
            "poursuivre ==  Florent\n",
            "faire ==  Léon\n",
            "regarder ==  Auguste\n",
            "apporter ==  Auguste\n",
            "avoir ==  Augustine\n",
            "raconter ==  Pauline\n",
            "revenir ==  Lisa\n",
            "étouffer ==  Florent\n",
            "venir ==  Léon\n",
            "attendre ==  quenu\n",
            "taire ==  Florent\n",
            "fâcher ==  quenu\n",
            "soulever ==  Léon\n",
            "retirer ==  quenu\n",
            "intéresser ==  Lisa\n",
            "bercer ==  Florent\n",
            "dormir ==  pauline\n",
            "aider ==  Léon\n",
            "monter ==  Augustine\n",
            "rester ==  quenu\n",
            "manger ==  Lisa\n",
            "décide ==  Florent\n",
            "accepte ==  Florent\n",
            "répondre ==  Lisa\n",
            "essayer ==  Florent\n",
            "murmurer ==  Florent\n",
            "achever ==  lisa\n",
            "nommer ==  Gavard\n",
            "déclarer ==  Florent\n",
            "éloigner ==  Florent\n",
            "effrayer ==  Lisa\n",
            "inspirer ==  Gavard\n",
            "accueillir ==  Florent\n",
            "ajouter ==  Gavard\n",
            "voir ==  Florent\n",
            "montrer ==  Lisa\n",
            "rester ==  Augustine\n",
            "juger ==  Gavard\n",
            "raconter ==  Gavard\n",
            "demander ==  Gavard\n",
            "allonger ==  Robine\n",
            "parler ==  Robine\n",
            "hausser ==  Robine\n",
            "épouser ==  Robine\n",
            "hâter ==  rose\n",
            "entrer ==  Charvet\n",
            "avoir ==  Gavard\n",
            "approuver ==  robine\n",
            "rester ==  Charvet\n",
            "présenter ==  Gavard\n",
            "faire ==  Clémence\n",
            "reprendre ==  Gavard\n",
            "dire ==  Charvet\n",
            "affirmer ==  Gavard\n",
            "laisser ==  Robine\n",
            "retrouver ==  Florent\n",
            "devenir ==  Charvet\n",
            "dodeliner ==  Robine\n",
            "faire ==  Gavard\n",
            "avoir ==  alexandre\n",
            "rester ==  rose\n",
            "reconnaître ==  Gavard\n",
            "trébucher ==  Gavard\n",
            "soigner ==  Augustine\n",
            "passer ==  Florent\n",
            "venir ==  méhudin\n",
            "installer ==  claire\n",
            "décoiffer ==  Murillo\n",
            "étaler ==  Louise\n",
            "dépasser ==  Florent\n",
            "croire ==  Lisa\n",
            "commencer ==  Florent\n",
            "pâmer ==  Gavard\n",
            "déclarer ==  clair\n",
            "amuser ==  Claire\n"
          ],
          "name": "stdout"
        }
      ]
    }
  ]
}